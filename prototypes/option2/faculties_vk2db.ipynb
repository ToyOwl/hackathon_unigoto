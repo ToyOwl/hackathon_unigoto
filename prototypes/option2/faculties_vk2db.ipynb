{
 "cells": [
  {
   "cell_type": "code",
   "execution_count": 1,
   "metadata": {},
   "outputs": [
    {
     "name": "stderr",
     "output_type": "stream",
     "text": [
      "/home/user03/Documents/SVN/UrFU.term3/Hackaton2023/.venv/lib/python3.10/site-packages/tqdm/auto.py:21: TqdmWarning: IProgress not found. Please update jupyter and ipywidgets. See https://ipywidgets.readthedocs.io/en/stable/user_install.html\n",
      "  from .autonotebook import tqdm as notebook_tqdm\n"
     ]
    }
   ],
   "source": [
    "import pandas as pd\n",
    "import numpy as np\n",
    "import psycopg2\n",
    "from sentence_transformers import SentenceTransformer"
   ]
  },
  {
   "cell_type": "code",
   "execution_count": 2,
   "metadata": {},
   "outputs": [],
   "source": [
    "faculty_fixed_df = pd.read_csv('faculty_fixed.csv', delimiter = ',', low_memory=False)"
   ]
  },
  {
   "cell_type": "code",
   "execution_count": 3,
   "metadata": {},
   "outputs": [
    {
     "name": "stdout",
     "output_type": "stream",
     "text": [
      "<class 'pandas.core.frame.DataFrame'>\n",
      "RangeIndex: 48865 entries, 0 to 48864\n",
      "Data columns (total 3 columns):\n",
      " #   Column              Non-Null Count  Dtype \n",
      "---  ------              --------------  ----- \n",
      " 0   faculty_name        48865 non-null  object\n",
      " 1   record_id           48865 non-null  int64 \n",
      " 2   faculty_name_fixed  48865 non-null  object\n",
      "dtypes: int64(1), object(2)\n",
      "memory usage: 1.1+ MB\n"
     ]
    }
   ],
   "source": [
    "faculty_fixed_df.info()"
   ]
  },
  {
   "cell_type": "code",
   "execution_count": 4,
   "metadata": {},
   "outputs": [],
   "source": [
    "faculty_fixed_translated_df = pd.read_csv('faculty_fixed_translated.csv', delimiter = ',', low_memory=False)"
   ]
  },
  {
   "cell_type": "code",
   "execution_count": 5,
   "metadata": {},
   "outputs": [
    {
     "name": "stdout",
     "output_type": "stream",
     "text": [
      "<class 'pandas.core.frame.DataFrame'>\n",
      "RangeIndex: 44095 entries, 0 to 44094\n",
      "Data columns (total 3 columns):\n",
      " #   Column              Non-Null Count  Dtype  \n",
      "---  ------              --------------  -----  \n",
      " 0   faculty_name_fixed  44095 non-null  object \n",
      " 1   faculty_name_ru     44095 non-null  object \n",
      " 2   is_different        44095 non-null  float64\n",
      "dtypes: float64(1), object(2)\n",
      "memory usage: 1.0+ MB\n"
     ]
    }
   ],
   "source": [
    "faculty_fixed_translated_df.info()"
   ]
  },
  {
   "cell_type": "code",
   "execution_count": 6,
   "metadata": {},
   "outputs": [
    {
     "data": {
      "text/html": [
       "<div>\n",
       "<style scoped>\n",
       "    .dataframe tbody tr th:only-of-type {\n",
       "        vertical-align: middle;\n",
       "    }\n",
       "\n",
       "    .dataframe tbody tr th {\n",
       "        vertical-align: top;\n",
       "    }\n",
       "\n",
       "    .dataframe thead th {\n",
       "        text-align: right;\n",
       "    }\n",
       "</style>\n",
       "<table border=\"1\" class=\"dataframe\">\n",
       "  <thead>\n",
       "    <tr style=\"text-align: right;\">\n",
       "      <th></th>\n",
       "      <th>faculty_name_fixed</th>\n",
       "      <th>faculty_name_ru</th>\n",
       "      <th>is_different</th>\n",
       "    </tr>\n",
       "  </thead>\n",
       "  <tbody>\n",
       "    <tr>\n",
       "      <th>0</th>\n",
       "      <td>Юридический факультет</td>\n",
       "      <td>Юридический факультет</td>\n",
       "      <td>0.0</td>\n",
       "    </tr>\n",
       "    <tr>\n",
       "      <th>1</th>\n",
       "      <td>Экономический факультет</td>\n",
       "      <td>Экономический факультет</td>\n",
       "      <td>0.0</td>\n",
       "    </tr>\n",
       "    <tr>\n",
       "      <th>2</th>\n",
       "      <td>Факультет биоинженерии и биоинформатики</td>\n",
       "      <td>Факультет биоинженерии и биоинформатики</td>\n",
       "      <td>0.0</td>\n",
       "    </tr>\n",
       "    <tr>\n",
       "      <th>3</th>\n",
       "      <td>Биологический факультет</td>\n",
       "      <td>Биологический факультет</td>\n",
       "      <td>0.0</td>\n",
       "    </tr>\n",
       "    <tr>\n",
       "      <th>4</th>\n",
       "      <td>Высшая школа бизнеса</td>\n",
       "      <td>Высшая школа бизнеса</td>\n",
       "      <td>0.0</td>\n",
       "    </tr>\n",
       "    <tr>\n",
       "      <th>...</th>\n",
       "      <td>...</td>\n",
       "      <td>...</td>\n",
       "      <td>...</td>\n",
       "    </tr>\n",
       "    <tr>\n",
       "      <th>44090</th>\n",
       "      <td>Jay S. Sidhu School of Business and Leadership</td>\n",
       "      <td>Школа бизнеса и лидерства Джея С. Сидху</td>\n",
       "      <td>1.0</td>\n",
       "    </tr>\n",
       "    <tr>\n",
       "      <th>44091</th>\n",
       "      <td>Jaringan Telekomunikasi Digital</td>\n",
       "      <td>Цифровая телекоммуникационная сеть</td>\n",
       "      <td>1.0</td>\n",
       "    </tr>\n",
       "    <tr>\n",
       "      <th>44092</th>\n",
       "      <td>Japonistyka</td>\n",
       "      <td>японоведение</td>\n",
       "      <td>1.0</td>\n",
       "    </tr>\n",
       "    <tr>\n",
       "      <th>44093</th>\n",
       "      <td>James L. And Dorothy H. Dewar College of Educa...</td>\n",
       "      <td>Педагогический колледж Джеймса Л. и Дороти Х. ...</td>\n",
       "      <td>1.0</td>\n",
       "    </tr>\n",
       "    <tr>\n",
       "      <th>44094</th>\n",
       "      <td>흉부외과학강좌</td>\n",
       "      <td>Лекция по торакальной хирургии</td>\n",
       "      <td>1.0</td>\n",
       "    </tr>\n",
       "  </tbody>\n",
       "</table>\n",
       "<p>44095 rows × 3 columns</p>\n",
       "</div>"
      ],
      "text/plain": [
       "                                      faculty_name_fixed  \\\n",
       "0                                  Юридический факультет   \n",
       "1                                Экономический факультет   \n",
       "2                Факультет биоинженерии и биоинформатики   \n",
       "3                                Биологический факультет   \n",
       "4                                   Высшая школа бизнеса   \n",
       "...                                                  ...   \n",
       "44090     Jay S. Sidhu School of Business and Leadership   \n",
       "44091                    Jaringan Telekomunikasi Digital   \n",
       "44092                                        Japonistyka   \n",
       "44093  James L. And Dorothy H. Dewar College of Educa...   \n",
       "44094                                            흉부외과학강좌   \n",
       "\n",
       "                                         faculty_name_ru  is_different  \n",
       "0                                  Юридический факультет           0.0  \n",
       "1                                Экономический факультет           0.0  \n",
       "2                Факультет биоинженерии и биоинформатики           0.0  \n",
       "3                                Биологический факультет           0.0  \n",
       "4                                   Высшая школа бизнеса           0.0  \n",
       "...                                                  ...           ...  \n",
       "44090            Школа бизнеса и лидерства Джея С. Сидху           1.0  \n",
       "44091                 Цифровая телекоммуникационная сеть           1.0  \n",
       "44092                                       японоведение           1.0  \n",
       "44093  Педагогический колледж Джеймса Л. и Дороти Х. ...           1.0  \n",
       "44094                     Лекция по торакальной хирургии           1.0  \n",
       "\n",
       "[44095 rows x 3 columns]"
      ]
     },
     "execution_count": 6,
     "metadata": {},
     "output_type": "execute_result"
    }
   ],
   "source": [
    "faculty_fixed_translated_df"
   ]
  },
  {
   "cell_type": "code",
   "execution_count": 9,
   "metadata": {},
   "outputs": [],
   "source": [
    "faculty_name_ru = list(faculty_fixed_translated_df['faculty_name_ru'].unique())"
   ]
  },
  {
   "cell_type": "code",
   "execution_count": 10,
   "metadata": {},
   "outputs": [
    {
     "data": {
      "text/plain": [
       "33459"
      ]
     },
     "execution_count": 10,
     "metadata": {},
     "output_type": "execute_result"
    }
   ],
   "source": [
    "len(faculty_name_ru)"
   ]
  },
  {
   "cell_type": "code",
   "execution_count": 11,
   "metadata": {},
   "outputs": [],
   "source": [
    "embedding_model = SentenceTransformer(\"paraphrase-multilingual-MiniLM-L12-v2\")"
   ]
  },
  {
   "cell_type": "code",
   "execution_count": 12,
   "metadata": {},
   "outputs": [],
   "source": [
    "embeddings = embedding_model.encode(faculty_name_ru)"
   ]
  },
  {
   "cell_type": "code",
   "execution_count": 13,
   "metadata": {},
   "outputs": [
    {
     "data": {
      "text/plain": [
       "(33459, 384)"
      ]
     },
     "execution_count": 13,
     "metadata": {},
     "output_type": "execute_result"
    }
   ],
   "source": [
    "embeddings.shape"
   ]
  },
  {
   "cell_type": "code",
   "execution_count": 14,
   "metadata": {},
   "outputs": [
    {
     "data": {
      "text/plain": [
       "array([[ 0.11868316,  0.3599821 , -0.43437418, ..., -0.30043277,\n",
       "         0.18584472,  0.26880696],\n",
       "       [ 0.26872548,  0.1526852 , -0.23233958, ..., -0.37705183,\n",
       "         0.13281727, -0.0325246 ],\n",
       "       [ 0.06163373,  0.3901784 , -0.09501418, ..., -0.21069434,\n",
       "         0.152418  , -0.11105683],\n",
       "       ...,\n",
       "       [-0.10577536,  0.10177018, -0.09970116, ..., -0.13156211,\n",
       "        -0.27641532,  0.06510457],\n",
       "       [ 0.04425332,  0.14655855, -0.06631096, ..., -0.13795738,\n",
       "        -0.07695553, -0.12021367],\n",
       "       [-0.21185961,  0.24273989, -0.05024791, ..., -0.22665648,\n",
       "        -0.02291673,  0.30200568]], dtype=float32)"
      ]
     },
     "execution_count": 14,
     "metadata": {},
     "output_type": "execute_result"
    }
   ],
   "source": [
    "embeddings"
   ]
  },
  {
   "cell_type": "code",
   "execution_count": null,
   "metadata": {},
   "outputs": [],
   "source": [
    "'[' + (','.join(map(str, embeddings[0]))) + ']'"
   ]
  },
  {
   "cell_type": "code",
   "execution_count": 18,
   "metadata": {},
   "outputs": [],
   "source": [
    "embeddings = [ '[' + (','.join(map(str, i))) + ']' for i in embeddings]"
   ]
  },
  {
   "cell_type": "code",
   "execution_count": 19,
   "metadata": {},
   "outputs": [
    {
     "data": {
      "text/plain": [
       "33459"
      ]
     },
     "execution_count": 19,
     "metadata": {},
     "output_type": "execute_result"
    }
   ],
   "source": [
    "len(embeddings)"
   ]
  },
  {
   "cell_type": "code",
   "execution_count": 20,
   "metadata": {},
   "outputs": [
    {
     "data": {
      "text/plain": [
       "'[0.06163373,0.3901784,-0.09501418,-0.04067063,-0.13706289,-0.23945917,-0.20263214,0.33040577,-0.06635491,0.19614625,0.1181526,-0.498805,-0.18659426,0.3301676,-0.2031801,-0.15205684,-0.15322122,0.050540764,0.19383922,-0.059436362,0.21142429,0.086635426,0.32208818,0.009856913,-0.102234535,0.009343837,-0.43532622,-0.08273537,-0.09880058,-0.23919652,0.23225503,0.045404054,0.22716601,-0.0328456,-0.041817643,0.28032482,-0.13310315,0.19729118,0.016667062,0.26813138,-0.079873994,-0.21171416,0.10194451,0.24329692,-0.067851275,-0.0115381675,-0.010190701,-0.12339389,-0.029465664,-0.520586,-0.11268935,-0.23588917,-0.11904854,-0.25583515,0.11891003,0.026501834,0.2386892,-0.15451045,-0.07170079,-0.014687309,0.3544845,0.0861568,-0.26977062,0.3857621,0.05622352,-0.18095121,0.20012407,0.23460439,0.29941237,-0.29744232,0.014155755,-0.30095583,0.17482989,0.14703867,0.24426055,0.37004936,0.03957125,0.04619773,0.41580436,-0.22481301,0.21232995,-0.06345312,0.13042682,0.111049406,0.03623992,0.3836533,-0.017974911,-0.0076399823,0.052279696,0.06310739,0.13817377,-0.3828354,0.013882908,-0.31035122,-0.080132335,0.075101405,-0.11010697,-0.28061023,0.23826228,0.40240696,-0.1403053,-0.034235302,-0.18815725,0.0021875869,-0.0032654395,-0.2915404,-0.08497683,-0.106514424,0.32512993,0.20900233,0.09383924,0.12284835,-0.17022248,0.017149443,0.20823118,0.36543083,-0.06650524,-0.120499104,0.27917042,0.29737428,-0.22522885,-0.23007542,0.17180982,-0.12193332,0.24070734,0.007012838,-0.004999713,0.031834766,0.269104,0.14371513,0.31765854,0.1543527,-0.10263403,0.04153904,-0.077962704,-0.16448535,0.1333958,-0.056773342,-0.05699982,0.23169024,0.04247699,0.120191336,-0.08567505,0.020676462,-0.2669516,0.16562657,-0.20850223,-0.15140961,0.04632839,-0.039993115,0.046483476,-0.038610425,0.1334636,-0.05410594,0.11001214,0.020498876,0.21089682,0.094481565,0.001907733,-0.09766,-0.04549969,0.077615894,0.2378939,0.13784534,-0.0016618978,-0.30998987,0.0071165697,-0.3442532,-0.14564323,0.22815801,0.22528456,-0.33827025,0.31030217,0.022441832,0.056944687,0.034712825,0.09353928,0.14295557,0.08951135,-0.03384999,0.47638413,-0.20284499,0.07396962,-0.054092024,0.03476511,-0.15620063,0.008779867,0.08023568,-0.33411524,0.51237506,-0.1545222,0.19930296,0.028758341,0.013105023,-0.19659735,-0.22234863,0.3575352,-0.033075903,-0.26738268,-0.08368377,-0.25883737,-0.050980452,-0.36021873,-0.099643506,-0.2710357,-0.22786061,-0.25606817,0.16069607,0.22458555,0.09841495,-0.26922572,0.044065557,-0.02034967,-0.10621926,0.016209463,0.11926565,-0.25507894,0.11815672,-0.08186532,-0.105815254,0.029524347,-0.15807225,-0.057907693,-0.33460715,-0.18071438,0.019242037,-0.031915154,-0.11985137,0.049144134,0.12908715,-0.09410962,0.089460246,0.047306582,0.058607507,-0.15395199,0.29652956,0.14578977,0.03258799,-0.14112902,0.107311584,-0.16324082,-0.27381757,-0.1260978,0.29027167,-0.067996934,0.34819782,-0.026590033,0.24644563,-0.11761181,0.607007,-0.1308016,0.056958277,0.15923329,-0.40402713,0.12901357,-0.055709135,-0.4121381,0.122567825,0.10316469,0.0013532003,0.2686716,-0.052807357,-0.13767645,-0.18391925,0.11546839,0.056421563,-0.24145116,0.18297377,0.116615176,0.046403997,-0.26224586,-0.07042586,0.005034894,-0.2007249,0.12402002,-0.1438449,0.19247913,-0.10383308,0.13470325,0.19150387,-0.14333378,0.03244951,-0.0761021,0.1928605,0.15115671,-0.1730812,0.106189504,0.0918908,-0.37586477,-0.10377503,0.21965571,0.38818318,-0.49653956,0.236573,0.22693339,0.26981634,-0.107890226,-0.20909223,-0.10615913,-0.025762249,-0.4011308,-0.34643802,-0.09595352,-0.04565919,0.07913251,-0.051241033,0.12573694,0.1041635,0.043343697,0.067309245,0.08092436,0.025237264,0.15873657,-0.18345182,-0.08007024,0.017278949,-0.21047519,-0.16356225,0.18298154,-0.4009243,0.21074915,0.1875115,0.15374038,0.17940095,-0.0074849296,0.020258553,-0.23440774,0.12616326,-0.013905102,-0.1641087,-0.48446757,0.17372738,-0.06848073,0.1512558,0.34361154,-0.13998093,-0.03953471,0.21284026,-0.14967912,-0.05483284,-0.03253516,0.18771386,-0.08264599,0.11130531,-0.029094664,-0.10963158,0.23933859,-0.12521993,0.120038375,0.16071883,0.00013016562,0.116506085,0.014348366,0.016655583,-0.06854546,-0.14214325,-0.28661805,-0.024740763,-0.17332892,-0.23433536,-0.28456995,-0.15145594,-0.030973677,0.28709283,-0.023932582,0.24940094,0.04570762,0.025139753,0.049124185,-0.07992987,-0.08002617,0.021533905,0.021570206,-0.31770027,-0.24871315,0.22456495,-0.0014174692,-0.12882099,-0.19761737,-0.10092103,-0.053480215,-0.21069434,0.152418,-0.111056834]'"
      ]
     },
     "execution_count": 20,
     "metadata": {},
     "output_type": "execute_result"
    }
   ],
   "source": [
    "embeddings[2]"
   ]
  },
  {
   "cell_type": "code",
   "execution_count": 22,
   "metadata": {},
   "outputs": [],
   "source": [
    "ru_vec_df = pd.DataFrame(columns = ['faculty_name_ru', 'embedding'])\n",
    "for i in np.arange(len(faculty_name_ru)):\n",
    "    ru_vec_df.loc[i] = [faculty_name_ru[i], embeddings[i]]"
   ]
  },
  {
   "cell_type": "code",
   "execution_count": 23,
   "metadata": {},
   "outputs": [
    {
     "data": {
      "text/html": [
       "<div>\n",
       "<style scoped>\n",
       "    .dataframe tbody tr th:only-of-type {\n",
       "        vertical-align: middle;\n",
       "    }\n",
       "\n",
       "    .dataframe tbody tr th {\n",
       "        vertical-align: top;\n",
       "    }\n",
       "\n",
       "    .dataframe thead th {\n",
       "        text-align: right;\n",
       "    }\n",
       "</style>\n",
       "<table border=\"1\" class=\"dataframe\">\n",
       "  <thead>\n",
       "    <tr style=\"text-align: right;\">\n",
       "      <th></th>\n",
       "      <th>faculty_name_ru</th>\n",
       "      <th>embedding</th>\n",
       "    </tr>\n",
       "  </thead>\n",
       "  <tbody>\n",
       "    <tr>\n",
       "      <th>0</th>\n",
       "      <td>Юридический факультет</td>\n",
       "      <td>[0.11868316,0.3599821,-0.43437418,-0.15627933,...</td>\n",
       "    </tr>\n",
       "    <tr>\n",
       "      <th>1</th>\n",
       "      <td>Экономический факультет</td>\n",
       "      <td>[0.26872548,0.1526852,-0.23233958,0.11820011,0...</td>\n",
       "    </tr>\n",
       "    <tr>\n",
       "      <th>2</th>\n",
       "      <td>Факультет биоинженерии и биоинформатики</td>\n",
       "      <td>[0.06163373,0.3901784,-0.09501418,-0.04067063,...</td>\n",
       "    </tr>\n",
       "    <tr>\n",
       "      <th>3</th>\n",
       "      <td>Биологический факультет</td>\n",
       "      <td>[-0.024020469,0.235017,-0.08868999,-0.02165936...</td>\n",
       "    </tr>\n",
       "    <tr>\n",
       "      <th>4</th>\n",
       "      <td>Высшая школа бизнеса</td>\n",
       "      <td>[0.35417813,0.26959077,-0.18569653,-0.01665383...</td>\n",
       "    </tr>\n",
       "    <tr>\n",
       "      <th>...</th>\n",
       "      <td>...</td>\n",
       "      <td>...</td>\n",
       "    </tr>\n",
       "    <tr>\n",
       "      <th>33454</th>\n",
       "      <td>Школа бизнеса и лидерства Джея С. Сидху</td>\n",
       "      <td>[0.06424836,0.33733055,-0.17458837,0.033753816...</td>\n",
       "    </tr>\n",
       "    <tr>\n",
       "      <th>33455</th>\n",
       "      <td>Цифровая телекоммуникационная сеть</td>\n",
       "      <td>[0.0063352357,-0.12739241,-0.012700283,-0.3998...</td>\n",
       "    </tr>\n",
       "    <tr>\n",
       "      <th>33456</th>\n",
       "      <td>японоведение</td>\n",
       "      <td>[-0.10577536,0.10177018,-0.09970116,0.03802707...</td>\n",
       "    </tr>\n",
       "    <tr>\n",
       "      <th>33457</th>\n",
       "      <td>Педагогический колледж Джеймса Л. и Дороти Х. ...</td>\n",
       "      <td>[0.04425332,0.14655855,-0.06631096,0.11734906,...</td>\n",
       "    </tr>\n",
       "    <tr>\n",
       "      <th>33458</th>\n",
       "      <td>Лекция по торакальной хирургии</td>\n",
       "      <td>[-0.21185961,0.24273989,-0.050247908,0.0754767...</td>\n",
       "    </tr>\n",
       "  </tbody>\n",
       "</table>\n",
       "<p>33459 rows × 2 columns</p>\n",
       "</div>"
      ],
      "text/plain": [
       "                                         faculty_name_ru  \\\n",
       "0                                  Юридический факультет   \n",
       "1                                Экономический факультет   \n",
       "2                Факультет биоинженерии и биоинформатики   \n",
       "3                                Биологический факультет   \n",
       "4                                   Высшая школа бизнеса   \n",
       "...                                                  ...   \n",
       "33454            Школа бизнеса и лидерства Джея С. Сидху   \n",
       "33455                 Цифровая телекоммуникационная сеть   \n",
       "33456                                       японоведение   \n",
       "33457  Педагогический колледж Джеймса Л. и Дороти Х. ...   \n",
       "33458                     Лекция по торакальной хирургии   \n",
       "\n",
       "                                               embedding  \n",
       "0      [0.11868316,0.3599821,-0.43437418,-0.15627933,...  \n",
       "1      [0.26872548,0.1526852,-0.23233958,0.11820011,0...  \n",
       "2      [0.06163373,0.3901784,-0.09501418,-0.04067063,...  \n",
       "3      [-0.024020469,0.235017,-0.08868999,-0.02165936...  \n",
       "4      [0.35417813,0.26959077,-0.18569653,-0.01665383...  \n",
       "...                                                  ...  \n",
       "33454  [0.06424836,0.33733055,-0.17458837,0.033753816...  \n",
       "33455  [0.0063352357,-0.12739241,-0.012700283,-0.3998...  \n",
       "33456  [-0.10577536,0.10177018,-0.09970116,0.03802707...  \n",
       "33457  [0.04425332,0.14655855,-0.06631096,0.11734906,...  \n",
       "33458  [-0.21185961,0.24273989,-0.050247908,0.0754767...  \n",
       "\n",
       "[33459 rows x 2 columns]"
      ]
     },
     "execution_count": 23,
     "metadata": {},
     "output_type": "execute_result"
    }
   ],
   "source": [
    "ru_vec_df"
   ]
  },
  {
   "cell_type": "code",
   "execution_count": 29,
   "metadata": {},
   "outputs": [],
   "source": [
    "joined_df = faculty_fixed_df.join(faculty_fixed_translated_df.set_index('faculty_name_fixed'), on='faculty_name_fixed', how='left')"
   ]
  },
  {
   "cell_type": "code",
   "execution_count": 30,
   "metadata": {},
   "outputs": [
    {
     "name": "stdout",
     "output_type": "stream",
     "text": [
      "<class 'pandas.core.frame.DataFrame'>\n",
      "RangeIndex: 48865 entries, 0 to 48864\n",
      "Data columns (total 5 columns):\n",
      " #   Column              Non-Null Count  Dtype  \n",
      "---  ------              --------------  -----  \n",
      " 0   faculty_name        48865 non-null  object \n",
      " 1   record_id           48865 non-null  int64  \n",
      " 2   faculty_name_fixed  48865 non-null  object \n",
      " 3   faculty_name_ru     48865 non-null  object \n",
      " 4   is_different        48865 non-null  float64\n",
      "dtypes: float64(1), int64(1), object(3)\n",
      "memory usage: 1.9+ MB\n"
     ]
    }
   ],
   "source": [
    "joined_df.info()"
   ]
  },
  {
   "cell_type": "code",
   "execution_count": 35,
   "metadata": {},
   "outputs": [
    {
     "data": {
      "text/plain": [
       "faculty_name          48865\n",
       "record_id              1026\n",
       "faculty_name_fixed    44095\n",
       "faculty_name_ru       33459\n",
       "is_different              2\n",
       "dtype: int64"
      ]
     },
     "execution_count": 35,
     "metadata": {},
     "output_type": "execute_result"
    }
   ],
   "source": [
    "joined_df.nunique()"
   ]
  },
  {
   "cell_type": "code",
   "execution_count": 26,
   "metadata": {},
   "outputs": [
    {
     "data": {
      "text/html": [
       "<div>\n",
       "<style scoped>\n",
       "    .dataframe tbody tr th:only-of-type {\n",
       "        vertical-align: middle;\n",
       "    }\n",
       "\n",
       "    .dataframe tbody tr th {\n",
       "        vertical-align: top;\n",
       "    }\n",
       "\n",
       "    .dataframe thead th {\n",
       "        text-align: right;\n",
       "    }\n",
       "</style>\n",
       "<table border=\"1\" class=\"dataframe\">\n",
       "  <thead>\n",
       "    <tr style=\"text-align: right;\">\n",
       "      <th></th>\n",
       "      <th>faculty_name</th>\n",
       "      <th>record_id</th>\n",
       "      <th>faculty_name_fixed</th>\n",
       "      <th>faculty_name_ru</th>\n",
       "      <th>is_different</th>\n",
       "    </tr>\n",
       "  </thead>\n",
       "  <tbody>\n",
       "    <tr>\n",
       "      <th>0</th>\n",
       "      <td>Юридический факультет</td>\n",
       "      <td>61006</td>\n",
       "      <td>Юридический факультет</td>\n",
       "      <td>Юридический факультет</td>\n",
       "      <td>0.0</td>\n",
       "    </tr>\n",
       "    <tr>\n",
       "      <th>1</th>\n",
       "      <td>Экономический факультет</td>\n",
       "      <td>59426</td>\n",
       "      <td>Экономический факультет</td>\n",
       "      <td>Экономический факультет</td>\n",
       "      <td>0.0</td>\n",
       "    </tr>\n",
       "    <tr>\n",
       "      <th>2</th>\n",
       "      <td>Факультет биоинженерии и биоинформатики</td>\n",
       "      <td>22719</td>\n",
       "      <td>Факультет биоинженерии и биоинформатики</td>\n",
       "      <td>Факультет биоинженерии и биоинформатики</td>\n",
       "      <td>0.0</td>\n",
       "    </tr>\n",
       "    <tr>\n",
       "      <th>3</th>\n",
       "      <td>Биологический факультет</td>\n",
       "      <td>21796</td>\n",
       "      <td>Биологический факультет</td>\n",
       "      <td>Биологический факультет</td>\n",
       "      <td>0.0</td>\n",
       "    </tr>\n",
       "    <tr>\n",
       "      <th>4</th>\n",
       "      <td>Высшая школа бизнеса</td>\n",
       "      <td>17360</td>\n",
       "      <td>Высшая школа бизнеса</td>\n",
       "      <td>Высшая школа бизнеса</td>\n",
       "      <td>0.0</td>\n",
       "    </tr>\n",
       "    <tr>\n",
       "      <th>...</th>\n",
       "      <td>...</td>\n",
       "      <td>...</td>\n",
       "      <td>...</td>\n",
       "      <td>...</td>\n",
       "      <td>...</td>\n",
       "    </tr>\n",
       "    <tr>\n",
       "      <th>48860</th>\n",
       "      <td>Jay S. Sidhu School of Business and Leadership</td>\n",
       "      <td>1</td>\n",
       "      <td>Jay S. Sidhu School of Business and Leadership</td>\n",
       "      <td>Школа бизнеса и лидерства Джея С. Сидху</td>\n",
       "      <td>1.0</td>\n",
       "    </tr>\n",
       "    <tr>\n",
       "      <th>48861</th>\n",
       "      <td>Jaringan Telekomunikasi Digital</td>\n",
       "      <td>1</td>\n",
       "      <td>Jaringan Telekomunikasi Digital</td>\n",
       "      <td>Цифровая телекоммуникационная сеть</td>\n",
       "      <td>1.0</td>\n",
       "    </tr>\n",
       "    <tr>\n",
       "      <th>48862</th>\n",
       "      <td>Japonistyka</td>\n",
       "      <td>1</td>\n",
       "      <td>Japonistyka</td>\n",
       "      <td>японоведение</td>\n",
       "      <td>1.0</td>\n",
       "    </tr>\n",
       "    <tr>\n",
       "      <th>48863</th>\n",
       "      <td>James L. And Dorothy H. Dewar College of Educa...</td>\n",
       "      <td>1</td>\n",
       "      <td>James L. And Dorothy H. Dewar College of Educa...</td>\n",
       "      <td>Педагогический колледж Джеймса Л. и Дороти Х. ...</td>\n",
       "      <td>1.0</td>\n",
       "    </tr>\n",
       "    <tr>\n",
       "      <th>48864</th>\n",
       "      <td>흉부외과학강좌 (Department of Cardiothoracic Surgery)</td>\n",
       "      <td>1</td>\n",
       "      <td>흉부외과학강좌</td>\n",
       "      <td>Лекция по торакальной хирургии</td>\n",
       "      <td>1.0</td>\n",
       "    </tr>\n",
       "  </tbody>\n",
       "</table>\n",
       "<p>48865 rows × 5 columns</p>\n",
       "</div>"
      ],
      "text/plain": [
       "                                            faculty_name  record_id  \\\n",
       "0                                  Юридический факультет      61006   \n",
       "1                                Экономический факультет      59426   \n",
       "2                Факультет биоинженерии и биоинформатики      22719   \n",
       "3                                Биологический факультет      21796   \n",
       "4                                   Высшая школа бизнеса      17360   \n",
       "...                                                  ...        ...   \n",
       "48860     Jay S. Sidhu School of Business and Leadership          1   \n",
       "48861                    Jaringan Telekomunikasi Digital          1   \n",
       "48862                                        Japonistyka          1   \n",
       "48863  James L. And Dorothy H. Dewar College of Educa...          1   \n",
       "48864     흉부외과학강좌 (Department of Cardiothoracic Surgery)          1   \n",
       "\n",
       "                                      faculty_name_fixed  \\\n",
       "0                                  Юридический факультет   \n",
       "1                                Экономический факультет   \n",
       "2                Факультет биоинженерии и биоинформатики   \n",
       "3                                Биологический факультет   \n",
       "4                                   Высшая школа бизнеса   \n",
       "...                                                  ...   \n",
       "48860     Jay S. Sidhu School of Business and Leadership   \n",
       "48861                    Jaringan Telekomunikasi Digital   \n",
       "48862                                        Japonistyka   \n",
       "48863  James L. And Dorothy H. Dewar College of Educa...   \n",
       "48864                                            흉부외과학강좌   \n",
       "\n",
       "                                         faculty_name_ru  is_different  \n",
       "0                                  Юридический факультет           0.0  \n",
       "1                                Экономический факультет           0.0  \n",
       "2                Факультет биоинженерии и биоинформатики           0.0  \n",
       "3                                Биологический факультет           0.0  \n",
       "4                                   Высшая школа бизнеса           0.0  \n",
       "...                                                  ...           ...  \n",
       "48860            Школа бизнеса и лидерства Джея С. Сидху           1.0  \n",
       "48861                 Цифровая телекоммуникационная сеть           1.0  \n",
       "48862                                       японоведение           1.0  \n",
       "48863  Педагогический колледж Джеймса Л. и Дороти Х. ...           1.0  \n",
       "48864                     Лекция по торакальной хирургии           1.0  \n",
       "\n",
       "[48865 rows x 5 columns]"
      ]
     },
     "execution_count": 26,
     "metadata": {},
     "output_type": "execute_result"
    }
   ],
   "source": [
    "joined_df"
   ]
  },
  {
   "cell_type": "code",
   "execution_count": 37,
   "metadata": {},
   "outputs": [],
   "source": [
    "ru_vec_df = ru_vec_df.join(joined_df.groupby('faculty_name_ru').agg(popularity=('record_id', 'sum')), on='faculty_name_ru', how='left')"
   ]
  },
  {
   "cell_type": "code",
   "execution_count": 38,
   "metadata": {},
   "outputs": [
    {
     "data": {
      "text/html": [
       "<div>\n",
       "<style scoped>\n",
       "    .dataframe tbody tr th:only-of-type {\n",
       "        vertical-align: middle;\n",
       "    }\n",
       "\n",
       "    .dataframe tbody tr th {\n",
       "        vertical-align: top;\n",
       "    }\n",
       "\n",
       "    .dataframe thead th {\n",
       "        text-align: right;\n",
       "    }\n",
       "</style>\n",
       "<table border=\"1\" class=\"dataframe\">\n",
       "  <thead>\n",
       "    <tr style=\"text-align: right;\">\n",
       "      <th></th>\n",
       "      <th>faculty_name_ru</th>\n",
       "      <th>embedding</th>\n",
       "      <th>popularity</th>\n",
       "    </tr>\n",
       "  </thead>\n",
       "  <tbody>\n",
       "    <tr>\n",
       "      <th>0</th>\n",
       "      <td>Юридический факультет</td>\n",
       "      <td>[0.11868316,0.3599821,-0.43437418,-0.15627933,...</td>\n",
       "      <td>63848</td>\n",
       "    </tr>\n",
       "    <tr>\n",
       "      <th>1</th>\n",
       "      <td>Экономический факультет</td>\n",
       "      <td>[0.26872548,0.1526852,-0.23233958,0.11820011,0...</td>\n",
       "      <td>62745</td>\n",
       "    </tr>\n",
       "    <tr>\n",
       "      <th>2</th>\n",
       "      <td>Факультет биоинженерии и биоинформатики</td>\n",
       "      <td>[0.06163373,0.3901784,-0.09501418,-0.04067063,...</td>\n",
       "      <td>22719</td>\n",
       "    </tr>\n",
       "    <tr>\n",
       "      <th>3</th>\n",
       "      <td>Биологический факультет</td>\n",
       "      <td>[-0.024020469,0.235017,-0.08868999,-0.02165936...</td>\n",
       "      <td>21813</td>\n",
       "    </tr>\n",
       "    <tr>\n",
       "      <th>4</th>\n",
       "      <td>Высшая школа бизнеса</td>\n",
       "      <td>[0.35417813,0.26959077,-0.18569653,-0.01665383...</td>\n",
       "      <td>17778</td>\n",
       "    </tr>\n",
       "    <tr>\n",
       "      <th>...</th>\n",
       "      <td>...</td>\n",
       "      <td>...</td>\n",
       "      <td>...</td>\n",
       "    </tr>\n",
       "    <tr>\n",
       "      <th>33454</th>\n",
       "      <td>Школа бизнеса и лидерства Джея С. Сидху</td>\n",
       "      <td>[0.06424836,0.33733055,-0.17458837,0.033753816...</td>\n",
       "      <td>1</td>\n",
       "    </tr>\n",
       "    <tr>\n",
       "      <th>33455</th>\n",
       "      <td>Цифровая телекоммуникационная сеть</td>\n",
       "      <td>[0.0063352357,-0.12739241,-0.012700283,-0.3998...</td>\n",
       "      <td>1</td>\n",
       "    </tr>\n",
       "    <tr>\n",
       "      <th>33456</th>\n",
       "      <td>японоведение</td>\n",
       "      <td>[-0.10577536,0.10177018,-0.09970116,0.03802707...</td>\n",
       "      <td>1</td>\n",
       "    </tr>\n",
       "    <tr>\n",
       "      <th>33457</th>\n",
       "      <td>Педагогический колледж Джеймса Л. и Дороти Х. ...</td>\n",
       "      <td>[0.04425332,0.14655855,-0.06631096,0.11734906,...</td>\n",
       "      <td>1</td>\n",
       "    </tr>\n",
       "    <tr>\n",
       "      <th>33458</th>\n",
       "      <td>Лекция по торакальной хирургии</td>\n",
       "      <td>[-0.21185961,0.24273989,-0.050247908,0.0754767...</td>\n",
       "      <td>1</td>\n",
       "    </tr>\n",
       "  </tbody>\n",
       "</table>\n",
       "<p>33459 rows × 3 columns</p>\n",
       "</div>"
      ],
      "text/plain": [
       "                                         faculty_name_ru  \\\n",
       "0                                  Юридический факультет   \n",
       "1                                Экономический факультет   \n",
       "2                Факультет биоинженерии и биоинформатики   \n",
       "3                                Биологический факультет   \n",
       "4                                   Высшая школа бизнеса   \n",
       "...                                                  ...   \n",
       "33454            Школа бизнеса и лидерства Джея С. Сидху   \n",
       "33455                 Цифровая телекоммуникационная сеть   \n",
       "33456                                       японоведение   \n",
       "33457  Педагогический колледж Джеймса Л. и Дороти Х. ...   \n",
       "33458                     Лекция по торакальной хирургии   \n",
       "\n",
       "                                               embedding  popularity  \n",
       "0      [0.11868316,0.3599821,-0.43437418,-0.15627933,...       63848  \n",
       "1      [0.26872548,0.1526852,-0.23233958,0.11820011,0...       62745  \n",
       "2      [0.06163373,0.3901784,-0.09501418,-0.04067063,...       22719  \n",
       "3      [-0.024020469,0.235017,-0.08868999,-0.02165936...       21813  \n",
       "4      [0.35417813,0.26959077,-0.18569653,-0.01665383...       17778  \n",
       "...                                                  ...         ...  \n",
       "33454  [0.06424836,0.33733055,-0.17458837,0.033753816...           1  \n",
       "33455  [0.0063352357,-0.12739241,-0.012700283,-0.3998...           1  \n",
       "33456  [-0.10577536,0.10177018,-0.09970116,0.03802707...           1  \n",
       "33457  [0.04425332,0.14655855,-0.06631096,0.11734906,...           1  \n",
       "33458  [-0.21185961,0.24273989,-0.050247908,0.0754767...           1  \n",
       "\n",
       "[33459 rows x 3 columns]"
      ]
     },
     "execution_count": 38,
     "metadata": {},
     "output_type": "execute_result"
    }
   ],
   "source": [
    "ru_vec_df"
   ]
  },
  {
   "cell_type": "code",
   "execution_count": 39,
   "metadata": {},
   "outputs": [],
   "source": [
    "conn = psycopg2.connect(dbname=\"h_core\", user=\"h_user\", password=\"AUdZuMOGuP\", host=\"84.201.178.7\", port=\"55432\")"
   ]
  },
  {
   "cell_type": "code",
   "execution_count": 32,
   "metadata": {},
   "outputs": [
    {
     "name": "stdout",
     "output_type": "stream",
     "text": [
      "0\n",
      "1000\n",
      "2000\n",
      "3000\n",
      "4000\n",
      "5000\n",
      "6000\n",
      "7000\n",
      "8000\n",
      "9000\n",
      "10000\n",
      "11000\n",
      "12000\n",
      "13000\n",
      "14000\n",
      "15000\n",
      "16000\n",
      "17000\n",
      "18000\n",
      "19000\n",
      "20000\n",
      "21000\n",
      "22000\n",
      "23000\n",
      "24000\n",
      "25000\n",
      "26000\n",
      "27000\n",
      "28000\n",
      "29000\n",
      "30000\n",
      "31000\n",
      "32000\n",
      "33000\n",
      "34000\n",
      "35000\n",
      "36000\n",
      "37000\n",
      "38000\n",
      "39000\n",
      "40000\n",
      "41000\n",
      "42000\n",
      "43000\n",
      "44000\n",
      "45000\n",
      "46000\n",
      "47000\n",
      "48000\n"
     ]
    }
   ],
   "source": [
    "with conn.cursor() as curs:\n",
    "    for i in range(len(joined_df)):\n",
    "        curs.execute('INSERT INTO h_faculty_2_ru (faculty_name, faculty_name_fixed_ru) VALUES (%s, %s)',\n",
    "                     (joined_df.loc[i,'faculty_name'],\n",
    "                      joined_df.loc[i,'faculty_name_ru']))\n",
    "        if i % 1000 ==0:\n",
    "            conn.commit()\n",
    "            print(i)\n",
    "    conn.commit()"
   ]
  },
  {
   "cell_type": "code",
   "execution_count": 41,
   "metadata": {},
   "outputs": [
    {
     "name": "stdout",
     "output_type": "stream",
     "text": [
      "0\n",
      "1000\n",
      "2000\n",
      "3000\n",
      "4000\n",
      "5000\n",
      "6000\n",
      "7000\n",
      "8000\n",
      "9000\n",
      "10000\n",
      "11000\n",
      "12000\n",
      "13000\n",
      "14000\n",
      "15000\n",
      "16000\n",
      "17000\n",
      "18000\n",
      "19000\n",
      "20000\n",
      "21000\n",
      "22000\n",
      "23000\n",
      "24000\n",
      "25000\n",
      "26000\n",
      "27000\n",
      "28000\n",
      "29000\n",
      "30000\n",
      "31000\n",
      "32000\n",
      "33000\n"
     ]
    }
   ],
   "source": [
    "with conn.cursor() as curs:\n",
    "    for i in range(len(ru_vec_df)):\n",
    "        curs.execute('INSERT INTO h_faculties_ru (faculty_name_fixed_ru, popularity, embedding) VALUES (%s, %s, %s)',\n",
    "                     (ru_vec_df.loc[i,'faculty_name_ru'],\n",
    "                      int(ru_vec_df.loc[i,'popularity']),\n",
    "                      ru_vec_df.loc[i,'embedding']))\n",
    "        if i % 1000 ==0:\n",
    "            conn.commit()\n",
    "            print(i)\n",
    "    conn.commit()"
   ]
  },
  {
   "cell_type": "code",
   "execution_count": 42,
   "metadata": {},
   "outputs": [],
   "source": [
    "conn.close()"
   ]
  }
 ],
 "metadata": {
  "kernelspec": {
   "display_name": ".venv",
   "language": "python",
   "name": "python3"
  },
  "language_info": {
   "codemirror_mode": {
    "name": "ipython",
    "version": 3
   },
   "file_extension": ".py",
   "mimetype": "text/x-python",
   "name": "python",
   "nbconvert_exporter": "python",
   "pygments_lexer": "ipython3",
   "version": "3.10.12"
  }
 },
 "nbformat": 4,
 "nbformat_minor": 2
}
