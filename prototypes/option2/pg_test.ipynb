{
 "cells": [
  {
   "cell_type": "code",
   "execution_count": null,
   "metadata": {},
   "outputs": [],
   "source": [
    "#sudo apt-get install libpq-dev"
   ]
  },
  {
   "cell_type": "code",
   "execution_count": 3,
   "metadata": {},
   "outputs": [
    {
     "name": "stdout",
     "output_type": "stream",
     "text": [
      "Looking in indexes: https://pypi.org/simple, https://pypi.ngc.nvidia.com\n",
      "Collecting psycopg2\n",
      "  Downloading psycopg2-2.9.9.tar.gz (384 kB)\n",
      "\u001b[2K     \u001b[90m━━━━━━━━━━━━━━━━━━━━━━━━━━━━━━━━━━━━━━━\u001b[0m \u001b[32m384.9/384.9 KB\u001b[0m \u001b[31m3.0 MB/s\u001b[0m eta \u001b[36m0:00:00\u001b[0ma \u001b[36m0:00:01\u001b[0m\n",
      "\u001b[?25h  Preparing metadata (setup.py) ... \u001b[?25ldone\n",
      "\u001b[?25hUsing legacy 'setup.py install' for psycopg2, since package 'wheel' is not installed.\n",
      "Installing collected packages: psycopg2\n",
      "  Running setup.py install for psycopg2 ... \u001b[?25ldone\n",
      "\u001b[?25hSuccessfully installed psycopg2-2.9.9\n"
     ]
    }
   ],
   "source": [
    "#!pip install psycopg2"
   ]
  },
  {
   "cell_type": "code",
   "execution_count": 5,
   "metadata": {},
   "outputs": [],
   "source": [
    "import psycopg2"
   ]
  },
  {
   "cell_type": "code",
   "execution_count": 8,
   "metadata": {},
   "outputs": [],
   "source": [
    "conn = psycopg2.connect(dbname=\"h_core\", user=\"h_user\", password=\"AUdZuMOGuP\", host=\"84.201.178.7\", port=\"55432\")"
   ]
  },
  {
   "cell_type": "code",
   "execution_count": 9,
   "metadata": {},
   "outputs": [],
   "source": [
    "cursor = conn.cursor()"
   ]
  },
  {
   "cell_type": "code",
   "execution_count": 10,
   "metadata": {},
   "outputs": [],
   "source": [
    "cursor.execute('SELECT * FROM h_raw_data limit 5')"
   ]
  },
  {
   "cell_type": "code",
   "execution_count": 11,
   "metadata": {},
   "outputs": [],
   "source": [
    "test = cursor.fetchall()"
   ]
  },
  {
   "cell_type": "code",
   "execution_count": 12,
   "metadata": {},
   "outputs": [
    {
     "data": {
      "text/plain": [
       "[('8f0e62a1-7012-463c-aa48-e4fc37f63d7d',\n",
       "  datetime.datetime(2023, 12, 5, 2, 53, 34, 470166),\n",
       "  datetime.datetime(2023, 12, 5, 2, 53, 34, 470166),\n",
       "  None,\n",
       "  670024,\n",
       "  '',\n",
       "  1,\n",
       "  'Россия',\n",
       "  0,\n",
       "  '',\n",
       "  '',\n",
       "  '',\n",
       "  '',\n",
       "  '',\n",
       "  'Велоспорт',\n",
       "  'Очное отделение',\n",
       "  'Выпускница (бакалавр)',\n",
       "  92,\n",
       "  'РАНХиГС при Президенте РФ (бывш. АНХ при Правительстве РФ)',\n",
       "  2124890,\n",
       "  'Институт менеджмента и маркетинга',\n",
       "  2015,\n",
       "  'велоспорт институт менеджмента и маркетинга'),\n",
       " ('87779cd9-17e4-4642-80fc-2256007f7263',\n",
       "  datetime.datetime(2023, 12, 5, 2, 53, 34, 470170),\n",
       "  datetime.datetime(2023, 12, 5, 2, 53, 34, 470171),\n",
       "  None,\n",
       "  670024,\n",
       "  '',\n",
       "  3,\n",
       "  'Беларусь',\n",
       "  392,\n",
       "  'Гомель',\n",
       "  '',\n",
       "  '',\n",
       "  '',\n",
       "  '',\n",
       "  '',\n",
       "  '',\n",
       "  '',\n",
       "  67617,\n",
       "  'ГГУ им. Ф. Скорины',\n",
       "  138569,\n",
       "  'Факультет математики и технологий программирования',\n",
       "  2012,\n",
       "  ''),\n",
       " ('95410b3c-9a71-4deb-95a1-aec0a4a510f4',\n",
       "  datetime.datetime(2023, 12, 5, 2, 53, 34, 470175),\n",
       "  datetime.datetime(2023, 12, 5, 2, 53, 34, 470175),\n",
       "  None,\n",
       "  670024,\n",
       "  '',\n",
       "  170,\n",
       "  'Саудовская Аравия',\n",
       "  1708618,\n",
       "  'Riyadh',\n",
       "  '',\n",
       "  '',\n",
       "  '',\n",
       "  '',\n",
       "  '',\n",
       "  'Дистанционное обучение',\n",
       "  '',\n",
       "  1129795,\n",
       "  'King Saud University (جامعة الملك سعود)',\n",
       "  2060661,\n",
       "  'Engineering (الهندسة)',\n",
       "  2018,\n",
       "  ''),\n",
       " ('649bbb8b-f2a5-4b95-8899-95eb901a970c',\n",
       "  datetime.datetime(2023, 12, 5, 2, 53, 34, 470179),\n",
       "  datetime.datetime(2023, 12, 5, 2, 53, 34, 470180),\n",
       "  None,\n",
       "  670024,\n",
       "  '',\n",
       "  1,\n",
       "  'Россия',\n",
       "  1,\n",
       "  'Москва',\n",
       "  '',\n",
       "  'Кондитерское дело',\n",
       "  '',\n",
       "  '',\n",
       "  '',\n",
       "  'Очное отделение',\n",
       "  'Выпускница (специалист)',\n",
       "  175386,\n",
       "  'ТУТ',\n",
       "  15287,\n",
       "  'Факультет мировой экономики и маркетинга',\n",
       "  2002,\n",
       "  'кондитерское дело факультет мировой экономики и маркетинга'),\n",
       " ('8a1c0f0e-d01a-4fc6-8df8-c6b6db6503a0',\n",
       "  datetime.datetime(2023, 12, 5, 2, 53, 34, 470184),\n",
       "  datetime.datetime(2023, 12, 5, 2, 53, 34, 470185),\n",
       "  None,\n",
       "  670024,\n",
       "  '',\n",
       "  87,\n",
       "  'Испания',\n",
       "  1516454,\n",
       "  'Madrid',\n",
       "  '',\n",
       "  '',\n",
       "  '',\n",
       "  '',\n",
       "  '',\n",
       "  '',\n",
       "  '',\n",
       "  526672,\n",
       "  'Universidad Autónoma de Madrid',\n",
       "  933703,\n",
       "  'Ciencias',\n",
       "  0,\n",
       "  '')]"
      ]
     },
     "execution_count": 12,
     "metadata": {},
     "output_type": "execute_result"
    }
   ],
   "source": [
    "test"
   ]
  },
  {
   "cell_type": "code",
   "execution_count": 13,
   "metadata": {},
   "outputs": [],
   "source": [
    "cursor.close()"
   ]
  },
  {
   "cell_type": "code",
   "execution_count": 14,
   "metadata": {},
   "outputs": [],
   "source": [
    "conn.close()"
   ]
  }
 ],
 "metadata": {
  "kernelspec": {
   "display_name": ".venv",
   "language": "python",
   "name": "python3"
  },
  "language_info": {
   "codemirror_mode": {
    "name": "ipython",
    "version": 3
   },
   "file_extension": ".py",
   "mimetype": "text/x-python",
   "name": "python",
   "nbconvert_exporter": "python",
   "pygments_lexer": "ipython3",
   "version": "3.10.12"
  }
 },
 "nbformat": 4,
 "nbformat_minor": 2
}
