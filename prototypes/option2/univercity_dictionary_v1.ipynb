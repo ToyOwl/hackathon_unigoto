{
 "cells": [
  {
   "cell_type": "code",
   "execution_count": 1,
   "metadata": {},
   "outputs": [
    {
     "name": "stderr",
     "output_type": "stream",
     "text": [
      "/home/user03/Documents/SVN/UrFU.term3/Hackaton2023/.venv/lib/python3.10/site-packages/tqdm/auto.py:21: TqdmWarning: IProgress not found. Please update jupyter and ipywidgets. See https://ipywidgets.readthedocs.io/en/stable/user_install.html\n",
      "  from .autonotebook import tqdm as notebook_tqdm\n"
     ]
    }
   ],
   "source": [
    "import pandas as pd\n",
    "import numpy as np\n",
    "import psycopg2\n",
    "from sentence_transformers import SentenceTransformer"
   ]
  },
  {
   "cell_type": "code",
   "execution_count": 2,
   "metadata": {},
   "outputs": [],
   "source": [
    "vk_faculty = 'Факультет биоинженерии и биоинформатики'\n",
    "\n",
    "select_query = 'select * from (select embedding <-> %s as cos, d.direction_id, d.value from h_edu_direction d ORDER BY d.embedding <-> %s limit 2) d'\n",
    "\n",
    "coords = (53.507852, 49.420411)"
   ]
  },
  {
   "cell_type": "code",
   "execution_count": 3,
   "metadata": {},
   "outputs": [],
   "source": [
    "select_query = ('select * from ' + \n",
    "                ' (select cos, faculty, full_name, city, dist, ' +\n",
    "                '     row_number() over (partition by faculty order by dist) univ_dist_rank ' +\n",
    "                '     from ' +\n",
    "                '   (select distinct d.cos, d.faculty, u.full_name, u.city, ' +\n",
    "                '     get_haversine_distance(u.latitude, u.longitude, %s, %s) dist ' +\n",
    "                '    from ' +\n",
    "                '     (select d.direction_id, d.value as faculty, '\n",
    "                '       embedding <-> %s as cos '\n",
    "                '      from h_edu_direction d order by d.embedding <-> %s limit 2) d, ' +\n",
    "                '     h_edu_direct2univ d2u, h_edu_universities u ' +\n",
    "                '    where d2u.direction_id = d.direction_id and u.university_id = d2u.university_id) u) u ' +\n",
    "                'where univ_dist_rank < 10 ' +\n",
    "                'order by faculty, univ_dist_rank, full_name')"
   ]
  },
  {
   "cell_type": "code",
   "execution_count": 4,
   "metadata": {},
   "outputs": [
    {
     "name": "stderr",
     "output_type": "stream",
     "text": [
      "/home/user03/Documents/SVN/UrFU.term3/Hackaton2023/.venv/lib/python3.10/site-packages/torch/cuda/__init__.py:138: UserWarning: CUDA initialization: CUDA unknown error - this may be due to an incorrectly set up environment, e.g. changing env variable CUDA_VISIBLE_DEVICES after program start. Setting the available devices to be zero. (Triggered internally at ../c10/cuda/CUDAFunctions.cpp:108.)\n",
      "  return torch._C._cuda_getDeviceCount() > 0\n"
     ]
    }
   ],
   "source": [
    "embedding_model = SentenceTransformer(\"paraphrase-multilingual-MiniLM-L12-v2\")"
   ]
  },
  {
   "cell_type": "code",
   "execution_count": 5,
   "metadata": {},
   "outputs": [],
   "source": [
    "embeddings4select = embedding_model.encode(vk_faculty)\n",
    "embeddings4select = '[' + (','.join(map(str, embeddings4select))) + ']'"
   ]
  },
  {
   "cell_type": "code",
   "execution_count": 6,
   "metadata": {},
   "outputs": [],
   "source": [
    "conn = psycopg2.connect(dbname=\"h_core\", user=\"h_user\", password=\"AUdZuMOGuP\", host=\"84.201.178.7\", port=\"55432\")"
   ]
  },
  {
   "cell_type": "code",
   "execution_count": 7,
   "metadata": {},
   "outputs": [],
   "source": [
    "with conn.cursor() as curs:\n",
    "    curs.execute(select_query,(coords[0], coords[1], embeddings4select,embeddings4select))\n",
    "    rs = curs.fetchall()"
   ]
  },
  {
   "cell_type": "code",
   "execution_count": 8,
   "metadata": {},
   "outputs": [
    {
     "data": {
      "text/plain": [
       "[(2.5999883064593936,\n",
       "  'Биологические науки',\n",
       "  'федеральное государственное бюджетное образовательное учреждение высшего образования «Самарский государственный медицинский университет» Министерства здравоохранения Российской Федерации',\n",
       "  'Самара',\n",
       "  57.326245444075575,\n",
       "  1),\n",
       " (2.5999883064593936,\n",
       "  'Биологические науки',\n",
       "  'федеральное государственное бюджетное образовательное учреждение высшего образования «Самарский государственный социально-педагогический университет»',\n",
       "  'Самара',\n",
       "  57.326245444075575,\n",
       "  2),\n",
       " (2.5999883064593936,\n",
       "  'Биологические науки',\n",
       "  'федеральное государственное автономное образовательное учреждение высшего образования «Самарский национальный исследовательский университет имени академика С.П. Королева»',\n",
       "  'Самара',\n",
       "  57.326245444075575,\n",
       "  3),\n",
       " (2.5999883064593936,\n",
       "  'Биологические науки',\n",
       "  'федеральное государственное бюджетное образовательное учреждение высшего образования «Самарский государственный аграрный университет»',\n",
       "  'Кинель',\n",
       "  86.63257041087763,\n",
       "  4),\n",
       " (2.5999883064593936,\n",
       "  'Биологические науки',\n",
       "  'федеральное государственное бюджетное образовательное учреждение высшего образования «Ульяновский государственный аграрный университет имени П.А. Столыпина»',\n",
       "  'Ульяновск',\n",
       "  112.27158782535771,\n",
       "  5),\n",
       " (2.5999883064593936,\n",
       "  'Биологические науки',\n",
       "  'федеральное государственное бюджетное образовательное учреждение высшего образования «Ульяновский государственный педагогический университет имени И.Н. Ульянова»',\n",
       "  'Ульяновск',\n",
       "  112.27158782535771,\n",
       "  6),\n",
       " (2.5999883064593936,\n",
       "  'Биологические науки',\n",
       "  'федеральное государственное бюджетное образовательное учреждение высшего образования «Ульяновский государственный университет»',\n",
       "  'Ульяновск',\n",
       "  112.27158782535771,\n",
       "  7),\n",
       " (2.5999883064593936,\n",
       "  'Биологические науки',\n",
       "  'федеральное государственное бюджетное образовательное учреждение высшего образования «Казанский государственный медицинский университет» Министерства здравоохранения Российской Федерации',\n",
       "  'Казань',\n",
       "  255.02269516923838,\n",
       "  8),\n",
       " (2.5999883064593936,\n",
       "  'Биологические науки',\n",
       "  'федеральное государственное автономное образовательное учреждение высшего образования «Казанский (Приволжский) федеральный университет»',\n",
       "  'Казань',\n",
       "  255.02269516923838,\n",
       "  9),\n",
       " (3.1420398770429734,\n",
       "  'Гуманитарные науки',\n",
       "  'федеральное государственное бюджетное образовательное учреждение высшего образования «Оренбургский государственный медицинский университет» Министерства здравоохранения Российской Федерации',\n",
       "  'Оренбург',\n",
       "  428.20823347810807,\n",
       "  1),\n",
       " (3.1420398770429734,\n",
       "  'Гуманитарные науки',\n",
       "  'федеральное казенное образовательное учреждение высшего образования «Пермский институт Федеральной службы исполнения наказаний»',\n",
       "  'Пермь',\n",
       "  656.9203625841857,\n",
       "  2),\n",
       " (3.1420398770429734,\n",
       "  'Гуманитарные науки',\n",
       "  'Частное учреждение образовательная организация высшего образования Институт экономики и культуры',\n",
       "  None,\n",
       "  787.1975616686069,\n",
       "  3),\n",
       " (3.1420398770429734,\n",
       "  'Гуманитарные науки',\n",
       "  'федеральное государственное бюджетное образовательное учреждение высшего образования «Российский экономический университет имени Г.В. Плеханова»',\n",
       "  'Москва',\n",
       "  798.341828906935,\n",
       "  4),\n",
       " (3.1420398770429734,\n",
       "  'Гуманитарные науки',\n",
       "  'федеральное государственное казенное образовательное учреждение высшего образования «Уральский юридический институт Министерства внутренних дел Российской Федерации»',\n",
       "  'Екатеринбург',\n",
       "  799.7307357452946,\n",
       "  5),\n",
       " (3.1420398770429734,\n",
       "  'Гуманитарные науки',\n",
       "  'Частное образовательное учреждение высшего образования «Ессентукский институт управления, бизнеса и права»',\n",
       "  'Ессентуки',\n",
       "  1155.731138406899,\n",
       "  6),\n",
       " (3.1420398770429734,\n",
       "  'Гуманитарные науки',\n",
       "  'федеральное государственное бюджетное образовательное учреждение высшего образования «Санкт-Петербургский государственный аграрный университет»',\n",
       "  'Пушкин',\n",
       "  1345.8584763578128,\n",
       "  7)]"
      ]
     },
     "execution_count": 8,
     "metadata": {},
     "output_type": "execute_result"
    }
   ],
   "source": [
    "rs"
   ]
  },
  {
   "cell_type": "code",
   "execution_count": 9,
   "metadata": {},
   "outputs": [],
   "source": [
    "conn.close()"
   ]
  }
 ],
 "metadata": {
  "kernelspec": {
   "display_name": ".venv",
   "language": "python",
   "name": "python3"
  },
  "language_info": {
   "codemirror_mode": {
    "name": "ipython",
    "version": 3
   },
   "file_extension": ".py",
   "mimetype": "text/x-python",
   "name": "python",
   "nbconvert_exporter": "python",
   "pygments_lexer": "ipython3",
   "version": "3.10.12"
  }
 },
 "nbformat": 4,
 "nbformat_minor": 2
}
